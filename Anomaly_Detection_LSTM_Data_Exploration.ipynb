{
 "cells": [
  {
   "cell_type": "markdown",
   "metadata": {
    "colab_type": "text",
    "id": "view-in-github"
   },
   "source": [
    "<a href=\"https://colab.research.google.com/github/jyonalee/Insider-Threat-and-Anomaly-Detection-from-User-Activities/blob/master/Anomaly_Detection_LSTM_Data_Exploration.ipynb\" target=\"_parent\"><img src=\"https://colab.research.google.com/assets/colab-badge.svg\" alt=\"Open In Colab\"/></a>"
   ]
  },
  {
   "cell_type": "code",
   "execution_count": null,
   "metadata": {
    "colab": {
     "base_uri": "https://localhost:8080/",
     "height": 700
    },
    "colab_type": "code",
    "id": "IN1DD_4ENdh3",
    "outputId": "7546edde-3f51-4058-93dc-b44ca2fddadd"
   },
   "outputs": [],
   "source": [
    "# install awscli to download the data\n",
    "!pip3 install awscli --upgrade --user\n",
    "\n",
    "# download data and save it on `data`\n",
    "!mkdir data\n",
    "!~/.local/bin/aws s3 sync --no-sign-request --region us-west-1 \"s3://cse-cic-ids2018/Processed Traffic Data for ML Algorithms/\" data/."
   ]
  },
  {
   "cell_type": "markdown",
   "metadata": {
    "colab_type": "text",
    "id": "SkKNa_ymcmhP"
   },
   "source": [
    "# Anomaly Detection with LSTM in Network Traffic Data"
   ]
  },
  {
   "cell_type": "markdown",
   "metadata": {
    "colab_type": "text",
    "id": "tKUEkeVGb2Iw"
   },
   "source": [
    "This project explores anomaly detection in network traffic with RNN-LSTM to train the model.\n",
    "\n",
    "The dataset can be obtained [here](https://www.unb.ca/cic/datasets/ids-2018.html)\n",
    "\n",
    "This is part of the capstone project for the Machine Learning Nano Degree from Udacity"
   ]
  },
  {
   "cell_type": "markdown",
   "metadata": {
    "colab_type": "text",
    "id": "5kTBtr-Ibisb"
   },
   "source": [
    "## Data Exploration\n",
    "\n",
    "---\n",
    "\n"
   ]
  },
  {
   "cell_type": "code",
   "execution_count": 1,
   "metadata": {
    "colab": {},
    "colab_type": "code",
    "id": "4Xgqhe0NXYdQ"
   },
   "outputs": [],
   "source": [
    "import pandas as pd\n",
    "import numpy as np\n",
    "import os\n",
    "import glob\n",
    "from sklearn import svm\n",
    "from sklearn.ensemble import IsolationForest\n",
    "import time\n",
    "\n",
    "from lib.helper_functions import *"
   ]
  },
  {
   "cell_type": "code",
   "execution_count": 2,
   "metadata": {},
   "outputs": [],
   "source": [
    "# if saved dataframe file exists, load\n",
    "# if dataframe isn't saved, load raw csv file and save the dataframe\n",
    "dataframe_file = 'flowmeter_dataframe.pkl'\n",
    "exists = os.path.isfile(dataframe_file)\n",
    "if exists:\n",
    "    df = pd.read_pickle(dataframe_file)\n",
    "else:\n",
    "    directory = '/home/jlee/cse-cic-ids2018/Processed Traffic Data for ML Algorithms'\n",
    "    df = pd.DataFrame()\n",
    "    df = read_clean_combine_csv(directory, df, 'Thuesday-20-02-2018_TrafficForML_CICFlowMeter.csv')\n",
    "    # save dataframe to file for future use\n",
    "    pd.to_pickle(df, dataframe_file)"
   ]
  },
  {
   "cell_type": "code",
   "execution_count": 3,
   "metadata": {},
   "outputs": [
    {
     "data": {
      "text/plain": [
       "2338.5255813598633"
      ]
     },
     "execution_count": 3,
     "metadata": {},
     "output_type": "execute_result"
    }
   ],
   "source": [
    "df.memory_usage().sum() / 1024**2 "
   ]
  },
  {
   "cell_type": "code",
   "execution_count": 4,
   "metadata": {},
   "outputs": [
    {
     "data": {
      "text/plain": [
       "8284195"
      ]
     },
     "execution_count": 4,
     "metadata": {},
     "output_type": "execute_result"
    }
   ],
   "source": [
    "len(df)"
   ]
  },
  {
   "cell_type": "code",
   "execution_count": 5,
   "metadata": {},
   "outputs": [],
   "source": [
    "df = df.sort_values(by=['Timestamp'])"
   ]
  },
  {
   "cell_type": "code",
   "execution_count": 6,
   "metadata": {},
   "outputs": [],
   "source": [
    "df = df[df['Timestamp'] > pd.to_datetime('2018-01-01')].reset_index(drop=True)"
   ]
  },
  {
   "cell_type": "code",
   "execution_count": 7,
   "metadata": {},
   "outputs": [
    {
     "name": "stdout",
     "output_type": "stream",
     "text": [
      "Benign                      6112137\n",
      "DDOS attack-HOIC             686012\n",
      "DoS attacks-Hulk             461912\n",
      "Bot                          286191\n",
      "FTP-BruteForce               193360\n",
      "SSH-Bruteforce               187589\n",
      "Infilteration                161934\n",
      "DoS attacks-SlowHTTPTest     139890\n",
      "DoS attacks-GoldenEye         41508\n",
      "DoS attacks-Slowloris         10990\n",
      "DDOS attack-LOIC-UDP           1730\n",
      "Brute Force -Web                611\n",
      "Brute Force -XSS                230\n",
      "SQL Injection                    87\n",
      "Name: Label, dtype: int64\n"
     ]
    }
   ],
   "source": [
    "# get count of each label\n",
    "print(df['Label'].value_counts())"
   ]
  },
  {
   "cell_type": "code",
   "execution_count": 8,
   "metadata": {},
   "outputs": [
    {
     "name": "stdout",
     "output_type": "stream",
     "text": [
      "Benign                      0.737808\n",
      "DDOS attack-HOIC            0.082810\n",
      "DoS attacks-Hulk            0.055758\n",
      "Bot                         0.034547\n",
      "FTP-BruteForce              0.023341\n",
      "SSH-Bruteforce              0.022644\n",
      "Infilteration               0.019547\n",
      "DoS attacks-SlowHTTPTest    0.016886\n",
      "DoS attacks-GoldenEye       0.005011\n",
      "DoS attacks-Slowloris       0.001327\n",
      "DDOS attack-LOIC-UDP        0.000209\n",
      "Brute Force -Web            0.000074\n",
      "Brute Force -XSS            0.000028\n",
      "SQL Injection               0.000011\n",
      "Name: Label, dtype: float64\n"
     ]
    }
   ],
   "source": [
    "# get distribution in of each label\n",
    "print(df['Label'].value_counts()/len(df))"
   ]
  },
  {
   "cell_type": "markdown",
   "metadata": {},
   "source": [
    "In essence, 73.8% of data points in this dataset is 'Benign' while the rest are some form of malicious attack"
   ]
  },
  {
   "cell_type": "markdown",
   "metadata": {},
   "source": [
    "## Training the \"Norm\"\n",
    "The goal is to train a model on a \"normal\" activity and detect anything that is an anomaly based on this model.\n",
    "This is also called \"Novelty Detection\" and will be implemented with One-Class SVM as outlined here:\n",
    "- https://scikit-learn.org/stable/modules/outlier_detection.html#outlier-detection\n",
    "- https://scikit-learn.org/stable/auto_examples/svm/plot_oneclass.html#sphx-glr-auto-examples-svm-plot-oneclass-py\n",
    "- https://scikit-learn.org/stable/auto_examples/ensemble/plot_isolation_forest.html"
   ]
  },
  {
   "cell_type": "code",
   "execution_count": 9,
   "metadata": {},
   "outputs": [],
   "source": [
    "# get 66% of 'Benign' labels as training set\n",
    "# get 33% of 'Benign' labels as test set\n",
    "# the rest 'non-benign' labels are the outliers\n",
    "train_set = df.loc[df['Label'] == 'Benign'].sample(frac=.66, random_state=123)\n",
    "test_set = df.drop(train_set.index)\n",
    "test_benign = test_set.loc[test_set['Label'] == 'Benign']\n",
    "test_malic = test_set.loc[test_set['Label'] != 'Benign']"
   ]
  },
  {
   "cell_type": "code",
   "execution_count": 10,
   "metadata": {},
   "outputs": [
    {
     "name": "stdout",
     "output_type": "stream",
     "text": [
      "4034010\n",
      "4250171\n",
      "2078127\n",
      "2172044\n",
      "8284181\n"
     ]
    }
   ],
   "source": [
    "print(len(train_set))\n",
    "print(len(test_set))\n",
    "print(len(test_benign))\n",
    "print(len(test_malic))\n",
    "print(len(df))"
   ]
  },
  {
   "cell_type": "code",
   "execution_count": 11,
   "metadata": {},
   "outputs": [],
   "source": [
    "train_features_set = train_set[train_set.columns.difference(['Dst Port','Protocol','Timestamp','Label'])].sample(frac=.01, random_state=123)\n",
    "test_features_benign = test_benign[test_benign.columns.difference(['Dst Port','Protocol','Timestamp','Label'])].sample(frac=.01, random_state=123)\n",
    "test_features_malic = test_malic[test_malic.columns.difference(['Dst Port','Protocol','Timestamp','Label'])].sample(frac=.01, random_state=123)"
   ]
  },
  {
   "cell_type": "markdown",
   "metadata": {},
   "source": [
    "### One-Class SVM"
   ]
  },
  {
   "cell_type": "code",
   "execution_count": 15,
   "metadata": {},
   "outputs": [
    {
     "name": "stdout",
     "output_type": "stream",
     "text": [
      "458.05040287971497\n"
     ]
    }
   ],
   "source": [
    "start = time.time()\n",
    "# fit the model\n",
    "clf = svm.OneClassSVM(nu=0.1, kernel=\"rbf\", gamma='scale')\n",
    "clf.fit(train_features_set)\n",
    "print(time.time() - start)"
   ]
  },
  {
   "cell_type": "code",
   "execution_count": 16,
   "metadata": {},
   "outputs": [],
   "source": [
    "y_pred_train = clf.predict(train_features_set)\n",
    "y_pred_test = clf.predict(test_features_benign)\n",
    "y_pred_outliers = clf.predict(test_features_malic)\n",
    "n_error_train = y_pred_train[y_pred_train == -1].size\n",
    "n_error_test = y_pred_test[y_pred_test == -1].size\n",
    "n_error_outliers = y_pred_outliers[y_pred_outliers == 1].size"
   ]
  },
  {
   "cell_type": "code",
   "execution_count": 17,
   "metadata": {},
   "outputs": [
    {
     "name": "stdout",
     "output_type": "stream",
     "text": [
      "7467/40340\n",
      "7943/20781\n",
      "9828/21720\n"
     ]
    }
   ],
   "source": [
    "print(str(n_error_train) + '/' + str(len(train_features_set)))\n",
    "print(str(n_error_test) + '/' + str(len(test_features_benign)))\n",
    "print(str(n_error_outliers) + '/' + str(len(test_features_malic)))"
   ]
  },
  {
   "cell_type": "markdown",
   "metadata": {},
   "source": [
    "one-class SVM on this dataset was able to distinguish between 'Benign' and 'Malicious' (everything not benign) with an error rate of ~40% (from a dataset of ~50% normal and 50% anomalous network traffic)\n",
    "\n",
    "### Isolation Forest"
   ]
  },
  {
   "cell_type": "code",
   "execution_count": 18,
   "metadata": {},
   "outputs": [
    {
     "name": "stdout",
     "output_type": "stream",
     "text": [
      "2.677292585372925\n"
     ]
    }
   ],
   "source": [
    "start = time.time()\n",
    "rng = np.random.RandomState(42)\n",
    "\n",
    "# fit the model\n",
    "clf = IsolationForest(behaviour='new', max_samples=1000,\n",
    "                      random_state=rng, contamination=0.01)\n",
    "clf.fit(train_features_set)\n",
    "print(time.time() - start)"
   ]
  },
  {
   "cell_type": "code",
   "execution_count": 19,
   "metadata": {},
   "outputs": [],
   "source": [
    "y_pred_train = clf.predict(train_features_set)\n",
    "y_pred_test = clf.predict(test_features_benign)\n",
    "y_pred_outliers = clf.predict(test_features_malic)\n",
    "n_error_train = y_pred_train[y_pred_train == -1].size\n",
    "n_error_test = y_pred_test[y_pred_test == -1].size\n",
    "n_error_outliers = y_pred_outliers[y_pred_outliers == 1].size"
   ]
  },
  {
   "cell_type": "code",
   "execution_count": 20,
   "metadata": {},
   "outputs": [
    {
     "name": "stdout",
     "output_type": "stream",
     "text": [
      "404/40340\n",
      "204/20781\n",
      "21607/21720\n"
     ]
    }
   ],
   "source": [
    "print(str(n_error_train) + '/' + str(len(train_features_set)))\n",
    "print(str(n_error_test) + '/' + str(len(test_features_benign)))\n",
    "print(str(n_error_outliers) + '/' + str(len(test_features_malic)))"
   ]
  },
  {
   "cell_type": "markdown",
   "metadata": {},
   "source": [
    "Isolation Forest was able to determine 'Benign' activity with ~1% error but got the same results with the anomalies (with ~99% error) which means that Isolation Forest doesn't work for anomaly detection in network activity."
   ]
  },
  {
   "cell_type": "code",
   "execution_count": null,
   "metadata": {},
   "outputs": [],
   "source": []
  }
 ],
 "metadata": {
  "accelerator": "TPU",
  "colab": {
   "collapsed_sections": [],
   "include_colab_link": true,
   "name": "Anomaly_Detection_LSTM_Data_Exploration.ipynb",
   "provenance": [],
   "toc_visible": true,
   "version": "0.3.2"
  },
  "kernelspec": {
   "display_name": "Python 3",
   "language": "python",
   "name": "python3"
  },
  "language_info": {
   "codemirror_mode": {
    "name": "ipython",
    "version": 3
   },
   "file_extension": ".py",
   "mimetype": "text/x-python",
   "name": "python",
   "nbconvert_exporter": "python",
   "pygments_lexer": "ipython3",
   "version": "3.6.7"
  }
 },
 "nbformat": 4,
 "nbformat_minor": 1
}
